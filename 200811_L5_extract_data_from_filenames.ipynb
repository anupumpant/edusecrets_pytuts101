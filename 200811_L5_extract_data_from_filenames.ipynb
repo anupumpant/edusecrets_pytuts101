{
 "cells": [
  {
   "cell_type": "code",
   "execution_count": 1,
   "metadata": {},
   "outputs": [
    {
     "name": "stdout",
     "output_type": "stream",
     "text": [
      "('D:/jupyter_notebooks/Edusecrets/data/L5/spec_cen100.00_20.0uW.dat',\n",
      " 'D:/jupyter_notebooks/Edusecrets/data/L5/spec_cen102.63_40.0uW.dat',\n",
      " 'D:/jupyter_notebooks/Edusecrets/data/L5/spec_cen105.26_60.0uW.dat',\n",
      " 'D:/jupyter_notebooks/Edusecrets/data/L5/spec_cen107.89_80.0uW.dat',\n",
      " 'D:/jupyter_notebooks/Edusecrets/data/L5/spec_cen110.53_100.0uW.dat',\n",
      " 'D:/jupyter_notebooks/Edusecrets/data/L5/spec_cen113.16_120.0uW.dat',\n",
      " 'D:/jupyter_notebooks/Edusecrets/data/L5/spec_cen115.79_140.0uW.dat',\n",
      " 'D:/jupyter_notebooks/Edusecrets/data/L5/spec_cen118.42_160.0uW.dat',\n",
      " 'D:/jupyter_notebooks/Edusecrets/data/L5/spec_cen121.05_180.0uW.dat',\n",
      " 'D:/jupyter_notebooks/Edusecrets/data/L5/spec_cen123.68_200.0uW.dat',\n",
      " 'D:/jupyter_notebooks/Edusecrets/data/L5/spec_cen126.32_220.0uW.dat',\n",
      " 'D:/jupyter_notebooks/Edusecrets/data/L5/spec_cen128.95_240.0uW.dat',\n",
      " 'D:/jupyter_notebooks/Edusecrets/data/L5/spec_cen131.58_260.0uW.dat',\n",
      " 'D:/jupyter_notebooks/Edusecrets/data/L5/spec_cen134.21_280.0uW.dat',\n",
      " 'D:/jupyter_notebooks/Edusecrets/data/L5/spec_cen136.84_300.0uW.dat',\n",
      " 'D:/jupyter_notebooks/Edusecrets/data/L5/spec_cen139.47_320.0uW.dat',\n",
      " 'D:/jupyter_notebooks/Edusecrets/data/L5/spec_cen142.11_340.0uW.dat',\n",
      " 'D:/jupyter_notebooks/Edusecrets/data/L5/spec_cen144.74_360.0uW.dat',\n",
      " 'D:/jupyter_notebooks/Edusecrets/data/L5/spec_cen147.37_380.0uW.dat',\n",
      " 'D:/jupyter_notebooks/Edusecrets/data/L5/spec_cen150.00_400.0uW.dat')\n"
     ]
    }
   ],
   "source": [
    "from ipywidgets import Button\n",
    "from tkinter import Tk, filedialog\n",
    "from IPython.display import clear_output, display\n",
    "from pprint import pprint\n",
    "\n",
    "def select_files(b):\n",
    "    clear_output()\n",
    "    root = Tk()\n",
    "    root.withdraw()                                        # Hide the main window.\n",
    "    root.call('wm', 'attributes', '.', '-topmost', True)   # Raise the root to the top of all windows.\n",
    "    b.files = filedialog.askopenfilename(multiple=True)    # List of selected files will be set button's file attribute.\n",
    "    pprint(b.files)                                         # Print the list of files selected.\n",
    "    \n",
    "fileselect = Button(description=\"File select\")\n",
    "fileselect.on_click(select_files)\n",
    "\n",
    "display(fileselect)"
   ]
  },
  {
   "cell_type": "code",
   "execution_count": 2,
   "metadata": {},
   "outputs": [
    {
     "name": "stdout",
     "output_type": "stream",
     "text": [
      "['D:/jupyter', 'notebooks/Edusecrets/data/L5/spec', 'cen100.00', '20.0uW.dat']\n"
     ]
    }
   ],
   "source": [
    "import re\n",
    "from pprint import pprint\n",
    "\n",
    "f = fileselect.files\n",
    "\n",
    "split = re.split('_', f[0])\n",
    "pprint(split)"
   ]
  },
  {
   "cell_type": "code",
   "execution_count": 3,
   "metadata": {},
   "outputs": [
    {
     "name": "stdout",
     "output_type": "stream",
     "text": [
      "['20.0uW']\n"
     ]
    }
   ],
   "source": [
    "power = re.findall(\"[0-9]+.[0-9]+[uW]+\", f[0])\n",
    "pprint(power)"
   ]
  },
  {
   "cell_type": "code",
   "execution_count": 4,
   "metadata": {},
   "outputs": [
    {
     "name": "stdout",
     "output_type": "stream",
     "text": [
      "['20.0']\n"
     ]
    }
   ],
   "source": [
    "powernumber = re.findall(\"[0-9]+.[0-9]\", power[0])\n",
    "print(powernumber)"
   ]
  },
  {
   "cell_type": "code",
   "execution_count": 5,
   "metadata": {},
   "outputs": [
    {
     "name": "stdout",
     "output_type": "stream",
     "text": [
      "'20.0'\n"
     ]
    }
   ],
   "source": [
    "pprint(powernumber[0])"
   ]
  },
  {
   "cell_type": "code",
   "execution_count": 6,
   "metadata": {},
   "outputs": [
    {
     "name": "stdout",
     "output_type": "stream",
     "text": [
      "['20.0uW',\n",
      " '40.0uW',\n",
      " '60.0uW',\n",
      " '80.0uW',\n",
      " '100.0uW',\n",
      " '120.0uW',\n",
      " '140.0uW',\n",
      " '160.0uW',\n",
      " '180.0uW',\n",
      " '200.0uW',\n",
      " '220.0uW',\n",
      " '240.0uW',\n",
      " '260.0uW',\n",
      " '280.0uW',\n",
      " '300.0uW',\n",
      " '320.0uW',\n",
      " '340.0uW',\n",
      " '360.0uW',\n",
      " '380.0uW',\n",
      " '400.0uW']\n"
     ]
    }
   ],
   "source": [
    "pars = [re.findall(\"[0-9]+.[0-9]+[uW]+\", file)[0] for file in f]\n",
    "pprint(pars)"
   ]
  },
  {
   "cell_type": "code",
   "execution_count": 7,
   "metadata": {},
   "outputs": [
    {
     "name": "stdout",
     "output_type": "stream",
     "text": [
      "['20.0',\n",
      " '40.0',\n",
      " '60.0',\n",
      " '80.0',\n",
      " '100.0',\n",
      " '120.0',\n",
      " '140.0',\n",
      " '160.0',\n",
      " '180.0',\n",
      " '200.0',\n",
      " '220.0',\n",
      " '240.0',\n",
      " '260.0',\n",
      " '280.0',\n",
      " '300.0',\n",
      " '320.0',\n",
      " '340.0',\n",
      " '360.0',\n",
      " '380.0',\n",
      " '400.0']\n"
     ]
    }
   ],
   "source": [
    "parnums = [re.findall(\"[0-9]+.[0-9]+\", number)[0] for number in pars]\n",
    "pprint(parnums)"
   ]
  },
  {
   "cell_type": "code",
   "execution_count": 8,
   "metadata": {},
   "outputs": [
    {
     "name": "stdout",
     "output_type": "stream",
     "text": [
      "[20.0,\n",
      " 40.0,\n",
      " 60.0,\n",
      " 80.0,\n",
      " 100.0,\n",
      " 120.0,\n",
      " 140.0,\n",
      " 160.0,\n",
      " 180.0,\n",
      " 200.0,\n",
      " 220.0,\n",
      " 240.0,\n",
      " 260.0,\n",
      " 280.0,\n",
      " 300.0,\n",
      " 320.0,\n",
      " 340.0,\n",
      " 360.0,\n",
      " 380.0,\n",
      " 400.0]\n"
     ]
    }
   ],
   "source": [
    "xaxis = [float(num) for num in parnums]\n",
    "pprint(xaxis)"
   ]
  }
 ],
 "metadata": {
  "kernelspec": {
   "display_name": "Python 3",
   "language": "python",
   "name": "python3"
  },
  "language_info": {
   "codemirror_mode": {
    "name": "ipython",
    "version": 3
   },
   "file_extension": ".py",
   "mimetype": "text/x-python",
   "name": "python",
   "nbconvert_exporter": "python",
   "pygments_lexer": "ipython3",
   "version": "3.7.3"
  }
 },
 "nbformat": 4,
 "nbformat_minor": 2
}
